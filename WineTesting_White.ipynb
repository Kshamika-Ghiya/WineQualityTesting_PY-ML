{
  "nbformat": 4,
  "nbformat_minor": 0,
  "metadata": {
    "colab": {
      "name": "WineTesting_White.ipynb",
      "provenance": [],
      "collapsed_sections": [],
      "authorship_tag": "ABX9TyNLFeTYuLYD//l+WllYtTJZ",
      "include_colab_link": true
    },
    "kernelspec": {
      "display_name": "Python 3",
      "name": "python3"
    },
    "language_info": {
      "name": "python"
    }
  },
  "cells": [
    {
      "cell_type": "markdown",
      "metadata": {
        "id": "view-in-github",
        "colab_type": "text"
      },
      "source": [
        "<a href=\"https://colab.research.google.com/github/Kshamika-Ghiya/WineQualityTesting_PY-ML/blob/main/WineTesting_White.ipynb\" target=\"_parent\"><img src=\"https://colab.research.google.com/assets/colab-badge.svg\" alt=\"Open In Colab\"/></a>"
      ]
    },
    {
      "cell_type": "code",
      "metadata": {
        "id": "CXHm8DSsaRAR"
      },
      "source": [
        "import imblearn\n",
        "import collections\n",
        "import os\n",
        "import numpy as np\n",
        "import pandas as pd\n",
        "import seaborn as sns\n",
        "import matplotlib.pyplot as plt\n",
        "from imblearn.under_sampling import TomekLinks, ClusterCentroids\n",
        "from sklearn.tree import DecisionTreeClassifier\n",
        "from sklearn.model_selection import train_test_split\n",
        "from sklearn.preprocessing import StandardScaler, LabelEncoder\n",
        "from sklearn.svm import SVC\n",
        "from sklearn.ensemble import RandomForestClassifier\n",
        "from sklearn.metrics import confusion_matrix, classification_report\n",
        "from imblearn.over_sampling import SMOTE\n",
        "from imblearn.combine import SMOTETomek\n",
        "from collections import Counter\n",
        "from sklearn.model_selection import StratifiedKFold\n",
        "from sklearn.model_selection import GridSearchCV\n",
        "from sklearn.model_selection import cross_val_score\n",
        "from sklearn.pipeline import Pipeline\n",
        "from sklearn.decomposition import PCA\n",
        "from sklearn.naive_bayes import GaussianNB\n",
        "from sklearn.neighbors import KNeighborsClassifier\n",
        "from sklearn import svm\n",
        "from sklearn.metrics import accuracy_score\n",
        "%matplotlib inline"
      ],
      "execution_count": null,
      "outputs": []
    },
    {
      "cell_type": "code",
      "metadata": {
        "id": "h-IJwetoRXZG"
      },
      "source": [
        "wine = pd.read_csv('/content/winequality-white.csv', delimiter = \";\")"
      ],
      "execution_count": null,
      "outputs": []
    },
    {
      "cell_type": "code",
      "metadata": {
        "colab": {
          "base_uri": "https://localhost:8080/"
        },
        "id": "GkWVWLpdSACn",
        "outputId": "aab2898d-8810-465a-bbdd-de612c57b649"
      },
      "source": [
        "wine.columns"
      ],
      "execution_count": null,
      "outputs": [
        {
          "output_type": "execute_result",
          "data": {
            "text/plain": [
              "Index(['fixed acidity', 'volatile acidity', 'citric acid', 'residual sugar',\n",
              "       'chlorides', 'free sulfur dioxide', 'total sulfur dioxide', 'density',\n",
              "       'pH', 'sulphates', 'alcohol', 'quality'],\n",
              "      dtype='object')"
            ]
          },
          "metadata": {},
          "execution_count": 153
        }
      ]
    },
    {
      "cell_type": "code",
      "metadata": {
        "colab": {
          "base_uri": "https://localhost:8080/"
        },
        "id": "yOiD7Q1TAceA",
        "outputId": "6810e07e-a5db-4cfa-8f62-04a70a758081"
      },
      "source": [
        "wine.isnull().sum()"
      ],
      "execution_count": null,
      "outputs": [
        {
          "output_type": "execute_result",
          "data": {
            "text/plain": [
              "fixed acidity           0\n",
              "volatile acidity        0\n",
              "citric acid             0\n",
              "residual sugar          0\n",
              "chlorides               0\n",
              "free sulfur dioxide     0\n",
              "total sulfur dioxide    0\n",
              "density                 0\n",
              "pH                      0\n",
              "sulphates               0\n",
              "alcohol                 0\n",
              "quality                 0\n",
              "dtype: int64"
            ]
          },
          "metadata": {},
          "execution_count": 154
        }
      ]
    },
    {
      "cell_type": "code",
      "metadata": {
        "colab": {
          "base_uri": "https://localhost:8080/",
          "height": 794
        },
        "id": "kLwoB01tSM2f",
        "outputId": "0f920d85-3888-4a12-f004-70d715e043f0"
      },
      "source": [
        "plt.figure(figsize = (10, 10))\n",
        "sns.countplot(wine[\"quality\"])\n",
        "wine[\"quality\"].value_counts()"
      ],
      "execution_count": null,
      "outputs": [
        {
          "output_type": "stream",
          "name": "stderr",
          "text": [
            "/usr/local/lib/python3.7/dist-packages/seaborn/_decorators.py:43: FutureWarning: Pass the following variable as a keyword arg: x. From version 0.12, the only valid positional argument will be `data`, and passing other arguments without an explicit keyword will result in an error or misinterpretation.\n",
            "  FutureWarning\n"
          ]
        },
        {
          "output_type": "execute_result",
          "data": {
            "text/plain": [
              "6    2198\n",
              "5    1457\n",
              "7     880\n",
              "8     175\n",
              "4     163\n",
              "3      20\n",
              "9       5\n",
              "Name: quality, dtype: int64"
            ]
          },
          "metadata": {},
          "execution_count": 155
        },
        {
          "output_type": "display_data",
          "data": {
            "image/png": "[encoded data removed]",
            "text/plain": [
              "<Figure size 720x720 with 1 Axes>"
            ]
          },
          "metadata": {
            "needs_background": "light"
          }
        }
      ]
    },
    {
      "cell_type": "code",
      "metadata": {
        "id": "zaobzDflSdEk"
      },
      "source": [
        "quality = wine[\"quality\"].values\n",
        "category = []\n",
        "for num in quality:\n",
        "    if num < 5:\n",
        "        category.append(\"Low\")\n",
        "    elif num > 6:\n",
        "        category.append(\"High\")\n",
        "    else:\n",
        "        category.append(\"Medium\")"
      ],
      "execution_count": null,
      "outputs": []
    },
    {
      "cell_type": "code",
      "metadata": {
        "colab": {
          "base_uri": "https://localhost:8080/"
        },
        "id": "chgzRatsS5gS",
        "outputId": "69a2d9f5-b30c-4afa-b54f-356f61877cea"
      },
      "source": [
        "[(i, category.count(i)) for i in set(category)]"
      ],
      "execution_count": null,
      "outputs": [
        {
          "output_type": "execute_result",
          "data": {
            "text/plain": [
              "[('High', 1060), ('Low', 183), ('Medium', 3655)]"
            ]
          },
          "metadata": {},
          "execution_count": 157
        }
      ]
    },
    {
      "cell_type": "code",
      "metadata": {
        "colab": {
          "base_uri": "https://localhost:8080/",
          "height": 390
        },
        "id": "emfLKcWbTFKV",
        "outputId": "c309db8b-6497-4bcf-aeb5-7e06a7be9a92"
      },
      "source": [
        "plt.figure(figsize = (10, 5))\n",
        "sns.countplot(category)"
      ],
      "execution_count": null,
      "outputs": [
        {
          "output_type": "stream",
          "name": "stderr",
          "text": [
            "/usr/local/lib/python3.7/dist-packages/seaborn/_decorators.py:43: FutureWarning: Pass the following variable as a keyword arg: x. From version 0.12, the only valid positional argument will be `data`, and passing other arguments without an explicit keyword will result in an error or misinterpretation.\n",
            "  FutureWarning\n"
          ]
        },
        {
          "output_type": "execute_result",
          "data": {
            "text/plain": [
              "<matplotlib.axes._subplots.AxesSubplot at 0x7fa46d515210>"
            ]
          },
          "metadata": {},
          "execution_count": 158
        },
        {
          "output_type": "display_data",
          "data": {
            "image/png": "[encoded data removed]",
            "text/plain": [
              "<Figure size 720x360 with 1 Axes>"
            ]
          },
          "metadata": {
            "needs_background": "light"
          }
        }
      ]
    },
    {
      "cell_type": "code",
      "metadata": {
        "colab": {
          "base_uri": "https://localhost:8080/",
          "height": 694
        },
        "id": "urLAHzD3TSkr",
        "outputId": "9fd4adbc-e065-4fd1-99ec-df121a080778"
      },
      "source": [
        "plt.figure(figsize = (10, 10))\n",
        "sns.heatmap(wine.corr(), annot = True)"
      ],
      "execution_count": null,
      "outputs": [
        {
          "output_type": "execute_result",
          "data": {
            "text/plain": [
              "<matplotlib.axes._subplots.AxesSubplot at 0x7fa46d691d90>"
            ]
          },
          "metadata": {},
          "execution_count": 159
        },
        {
          "output_type": "display_data",
          "data": {
            "image/png": "[encoded data removed]",
            "text/plain": [
              "<Figure size 720x720 with 2 Axes>"
            ]
          },
          "metadata": {
            "needs_background": "light"
          }
        }
      ]
    },
    {
      "cell_type": "code",
      "metadata": {
        "id": "OflIh9cvTeCh"
      },
      "source": [
        "quality = wine[\"quality\"].values\n",
        "category = []\n",
        "for num in quality:\n",
        "    if num < 5:\n",
        "        category.append(\"Low\")\n",
        "    elif num > 6:\n",
        "        category.append(\"High\")\n",
        "    else:\n",
        "        category.append(\"Medium\")\n",
        "category = pd.DataFrame(data = category, columns = [\"category\"])\n",
        "data = pd.concat([wine, category], axis = 1)\n",
        "data.drop(columns = \"quality\", axis = 1, inplace = True)\n",
        "x = data.iloc[:, :-1].values\n",
        "y = data.iloc[:, -1].values"
      ],
      "execution_count": null,
      "outputs": []
    },
    {
      "cell_type": "code",
      "metadata": {
        "id": "gw1evWWpUVeG"
      },
      "source": [
        "labelencoder_y = LabelEncoder()\n",
        "y = labelencoder_y.fit_transform(y)"
      ],
      "execution_count": null,
      "outputs": []
    },
    {
      "cell_type": "code",
      "metadata": {
        "id": "4Vyax8v6UenB"
      },
      "source": [
        "x_train, x_test, y_train, y_test = train_test_split(x, y, test_size = 0.2, random_state = 42)"
      ],
      "execution_count": null,
      "outputs": []
    },
    {
      "cell_type": "code",
      "metadata": {
        "colab": {
          "base_uri": "https://localhost:8080/"
        },
        "id": "MhV7cAwIU8rC",
        "outputId": "57dea65d-3051-4d72-eddf-9f43d6134197"
      },
      "source": [
        "clf = RandomForestClassifier(random_state=42, oob_score=True)\n",
        "param_dist = {\"n_estimators\": [50, 100, 150, 200, 250], 'min_samples_leaf': [1, 2, 4]}\n",
        "rfc_gs = GridSearchCV(clf, param_grid=param_dist, scoring='accuracy', cv=5)\n",
        "rfc_gs.fit(x_train, y_train)"
      ],
      "execution_count": null,
      "outputs": [
        {
          "output_type": "execute_result",
          "data": {
            "text/plain": [
              "GridSearchCV(cv=5, error_score=nan,\n",
              "             estimator=RandomForestClassifier(bootstrap=True, ccp_alpha=0.0,\n",
              "                                              class_weight=None,\n",
              "                                              criterion='gini', max_depth=None,\n",
              "                                              max_features='auto',\n",
              "                                              max_leaf_nodes=None,\n",
              "                                              max_samples=None,\n",
              "                                              min_impurity_decrease=0.0,\n",
              "                                              min_impurity_split=None,\n",
              "                                              min_samples_leaf=1,\n",
              "                                              min_samples_split=2,\n",
              "                                              min_weight_fraction_leaf=0.0,\n",
              "                                              n_estimators=100, n_jobs=None,\n",
              "                                              oob_score=True, random_state=42,\n",
              "                                              verbose=0, warm_start=False),\n",
              "             iid='deprecated', n_jobs=None,\n",
              "             param_grid={'min_samples_leaf': [1, 2, 4],\n",
              "                         'n_estimators': [50, 100, 150, 200, 250]},\n",
              "             pre_dispatch='2*n_jobs', refit=True, return_train_score=False,\n",
              "             scoring='accuracy', verbose=0)"
            ]
          },
          "metadata": {},
          "execution_count": 163
        }
      ]
    },
    {
      "cell_type": "code",
      "metadata": {
        "colab": {
          "base_uri": "https://localhost:8080/"
        },
        "id": "Z3VQSoJWVR8w",
        "outputId": "edb2d663-5181-48f6-da36-ab17e738a0c6"
      },
      "source": [
        "rfc_gs.best_score_"
      ],
      "execution_count": null,
      "outputs": [
        {
          "output_type": "execute_result",
          "data": {
            "text/plain": [
              "0.8325634659994267"
            ]
          },
          "metadata": {},
          "execution_count": 164
        }
      ]
    },
    {
      "cell_type": "code",
      "metadata": {
        "id": "MQSlz4FdVbfi"
      },
      "source": [
        "skf = StratifiedKFold(n_splits = 4)"
      ],
      "execution_count": null,
      "outputs": []
    },
    {
      "cell_type": "code",
      "metadata": {
        "colab": {
          "base_uri": "https://localhost:8080/"
        },
        "id": "hJtJ4VNbVi5e",
        "outputId": "5dbb1663-3d15-4482-bcfe-e9d10f253ea4"
      },
      "source": [
        "pipe_svm = Pipeline([('clf', svm.SVC())])\n",
        "grid_params = dict(clf__C=[0.1, 0.3, 1, 3, 10], clf__gamma=[0.1, 0.3, 1, 3, 10], clf__kernel=['rbf', 'sigmoid'])\n",
        "gs_svm = GridSearchCV(estimator=pipe_svm, param_grid=grid_params, scoring='accuracy', cv=skf)\n",
        "gs_svm.fit(x_train, y_train)"
      ],
      "execution_count": null,
      "outputs": [
        {
          "output_type": "execute_result",
          "data": {
            "text/plain": [
              "GridSearchCV(cv=StratifiedKFold(n_splits=4, random_state=None, shuffle=False),\n",
              "             error_score=nan,\n",
              "             estimator=Pipeline(memory=None,\n",
              "                                steps=[('clf',\n",
              "                                        SVC(C=1.0, break_ties=False,\n",
              "                                            cache_size=200, class_weight=None,\n",
              "                                            coef0=0.0,\n",
              "                                            decision_function_shape='ovr',\n",
              "                                            degree=3, gamma='scale',\n",
              "                                            kernel='rbf', max_iter=-1,\n",
              "                                            probability=False,\n",
              "                                            random_state=None, shrinking=True,\n",
              "                                            tol=0.001, verbose=False))],\n",
              "                                verbose=False),\n",
              "             iid='deprecated', n_jobs=None,\n",
              "             param_grid={'clf__C': [0.1, 0.3, 1, 3, 10],\n",
              "                         'clf__gamma': [0.1, 0.3, 1, 3, 10],\n",
              "                         'clf__kernel': ['rbf', 'sigmoid']},\n",
              "             pre_dispatch='2*n_jobs', refit=True, return_train_score=False,\n",
              "             scoring='accuracy', verbose=0)"
            ]
          },
          "metadata": {},
          "execution_count": 166
        }
      ]
    },
    {
      "cell_type": "code",
      "metadata": {
        "colab": {
          "base_uri": "https://localhost:8080/"
        },
        "id": "KEe_HmW5Vuwc",
        "outputId": "7aef4f94-2861-4b41-cc3e-8aa1d39bfe75"
      },
      "source": [
        "print(gs_svm.best_score_)"
      ],
      "execution_count": null,
      "outputs": [
        {
          "output_type": "stream",
          "name": "stdout",
          "text": [
            "0.8098504825832274\n"
          ]
        }
      ]
    },
    {
      "cell_type": "code",
      "metadata": {
        "colab": {
          "base_uri": "https://localhost:8080/"
        },
        "id": "VIEsPjQrVzxH",
        "outputId": "5486c8e2-4261-43cb-96d1-df35e66e79c5"
      },
      "source": [
        "pred_svm = gs_svm.predict(x_test)\n",
        "print(classification_report(y_test, pred_svm))\n",
        "print(\"The SVM model accuracy on Test data is %s\" % accuracy_score(y_test, pred_svm))"
      ],
      "execution_count": null,
      "outputs": [
        {
          "output_type": "stream",
          "name": "stdout",
          "text": [
            "              precision    recall  f1-score   support\n",
            "\n",
            "           0       1.00      0.39      0.56       227\n",
            "           1       1.00      0.07      0.12        30\n",
            "           2       0.81      1.00      0.90       723\n",
            "\n",
            "    accuracy                           0.83       980\n",
            "   macro avg       0.94      0.48      0.53       980\n",
            "weighted avg       0.86      0.83      0.79       980\n",
            "\n",
            "The SVM model accuracy on Test data is 0.8295918367346938\n"
          ]
        }
      ]
    },
    {
      "cell_type": "code",
      "metadata": {
        "id": "SU_LuNLJV4k_"
      },
      "source": [
        "y_test_re = list(y_test)\n",
        "for i in range(len(y_test_re)):\n",
        "    if y_test_re[i] == 0:\n",
        "        y_test_re[i] = \"high\"\n",
        "    if y_test_re[i] == 1:\n",
        "        y_test_re[i] = \"low\"\n",
        "    if y_test_re[i] == 2:\n",
        "        y_test_re[i] = \"medium\"\n",
        "pred_svm_re = list(pred_svm)\n",
        "for i in range(len(pred_svm_re)):\n",
        "    if pred_svm_re[i] == 0:\n",
        "        pred_svm_re[i] = \"high\"\n",
        "    if pred_svm_re[i] == 1:\n",
        "        pred_svm_re[i] = \"low\"\n",
        "    if pred_svm_re[i] == 2:\n",
        "        pred_svm_re[i] = \"medium\"\n",
        "y_actu = pd.Series(y_test_re, name='Actual')\n",
        "y_pred = pd.Series(pred_svm_re, name='Predicted')\n",
        "svm_confusion = pd.crosstab(y_actu, y_pred)"
      ],
      "execution_count": null,
      "outputs": []
    },
    {
      "cell_type": "code",
      "metadata": {
        "colab": {
          "base_uri": "https://localhost:8080/",
          "height": 172
        },
        "id": "LNvtqfUmV8Nk",
        "outputId": "e61af2b0-357b-47e6-9f33-f244f8ad6cae"
      },
      "source": [
        "svm_confusion"
      ],
      "execution_count": null,
      "outputs": [
        {
          "output_type": "execute_result",
          "data": {
            "text/html": [
              "<div>\n",
              "<style scoped>\n",
              "    .dataframe tbody tr th:only-of-type {\n",
              "        vertical-align: middle;\n",
              "    }\n",
              "\n",
              "    .dataframe tbody tr th {\n",
              "        vertical-align: top;\n",
              "    }\n",
              "\n",
              "    .dataframe thead th {\n",
              "        text-align: right;\n",
              "    }\n",
              "</style>\n",
              "<table border=\"1\" class=\"dataframe\">\n",
              "  <thead>\n",
              "    <tr style=\"text-align: right;\">\n",
              "      <th>Predicted</th>\n",
              "      <th>high</th>\n",
              "      <th>low</th>\n",
              "      <th>medium</th>\n",
              "    </tr>\n",
              "    <tr>\n",
              "      <th>Actual</th>\n",
              "      <th></th>\n",
              "      <th></th>\n",
              "      <th></th>\n",
              "    </tr>\n",
              "  </thead>\n",
              "  <tbody>\n",
              "    <tr>\n",
              "      <th>high</th>\n",
              "      <td>88</td>\n",
              "      <td>0</td>\n",
              "      <td>139</td>\n",
              "    </tr>\n",
              "    <tr>\n",
              "      <th>low</th>\n",
              "      <td>0</td>\n",
              "      <td>2</td>\n",
              "      <td>28</td>\n",
              "    </tr>\n",
              "    <tr>\n",
              "      <th>medium</th>\n",
              "      <td>0</td>\n",
              "      <td>0</td>\n",
              "      <td>723</td>\n",
              "    </tr>\n",
              "  </tbody>\n",
              "</table>\n",
              "</div>"
            ],
            "text/plain": [
              "Predicted  high  low  medium\n",
              "Actual                      \n",
              "high         88    0     139\n",
              "low           0    2      28\n",
              "medium        0    0     723"
            ]
          },
          "metadata": {},
          "execution_count": 201
        }
      ]
    },
    {
      "cell_type": "code",
      "metadata": {
        "colab": {
          "base_uri": "https://localhost:8080/"
        },
        "id": "te0EynOJV-YU",
        "outputId": "240c4201-37a7-4a60-fc36-a40ea535ab06"
      },
      "source": [
        "clf = Pipeline([\n",
        "    ('scl', StandardScaler()),\n",
        "    ('pca', PCA(random_state=42)),\n",
        "    ('clf', DecisionTreeClassifier(random_state=42))])\n",
        "\n",
        "criterion = ['gini', 'entropy']\n",
        "splitter = ['best']\n",
        "max_depth = [8, 9, 10, 11, 15, 20, 25]\n",
        "min_samples_leaf = [2, 3, 5]\n",
        "class_weight = ['balanced', None]\n",
        "\n",
        "param_grid =\\\n",
        "    [{'clf__class_weight': class_weight,\n",
        "      'clf__criterion': criterion,\n",
        "      'clf__splitter': splitter,\n",
        "      'clf__max_depth': max_depth,\n",
        "      'clf__min_samples_leaf': min_samples_leaf\n",
        "      }]\n",
        "\n",
        "gs_dt = GridSearchCV(estimator=clf, param_grid=param_grid,\n",
        "                     scoring='accuracy', cv=5, verbose=1, n_jobs=-1)\n",
        "gs_dt.fit(x_train, y_train)"
      ],
      "execution_count": null,
      "outputs": [
        {
          "output_type": "stream",
          "name": "stdout",
          "text": [
            "Fitting 5 folds for each of 84 candidates, totalling 420 fits\n"
          ]
        },
        {
          "output_type": "stream",
          "name": "stderr",
          "text": [
            "[Parallel(n_jobs=-1)]: Using backend LokyBackend with 2 concurrent workers.\n",
            "[Parallel(n_jobs=-1)]: Done 122 tasks      | elapsed:    5.3s\n",
            "[Parallel(n_jobs=-1)]: Done 420 out of 420 | elapsed:   20.5s finished\n"
          ]
        },
        {
          "output_type": "execute_result",
          "data": {
            "text/plain": [
              "GridSearchCV(cv=5, error_score=nan,\n",
              "             estimator=Pipeline(memory=None,\n",
              "                                steps=[('scl',\n",
              "                                        StandardScaler(copy=True,\n",
              "                                                       with_mean=True,\n",
              "                                                       with_std=True)),\n",
              "                                       ('pca',\n",
              "                                        PCA(copy=True, iterated_power='auto',\n",
              "                                            n_components=None, random_state=42,\n",
              "                                            svd_solver='auto', tol=0.0,\n",
              "                                            whiten=False)),\n",
              "                                       ('clf',\n",
              "                                        DecisionTreeClassifier(ccp_alpha=0.0,\n",
              "                                                               class_weight=None,\n",
              "                                                               criterion='gini',\n",
              "                                                               max_depth=None,\n",
              "                                                               max...\n",
              "                                                               random_state=42,\n",
              "                                                               splitter='best'))],\n",
              "                                verbose=False),\n",
              "             iid='deprecated', n_jobs=-1,\n",
              "             param_grid=[{'clf__class_weight': ['balanced', None],\n",
              "                          'clf__criterion': ['gini', 'entropy'],\n",
              "                          'clf__max_depth': [8, 9, 10, 11, 15, 20, 25],\n",
              "                          'clf__min_samples_leaf': [2, 3, 5],\n",
              "                          'clf__splitter': ['best']}],\n",
              "             pre_dispatch='2*n_jobs', refit=True, return_train_score=False,\n",
              "             scoring='accuracy', verbose=1)"
            ]
          },
          "metadata": {},
          "execution_count": 171
        }
      ]
    },
    {
      "cell_type": "code",
      "metadata": {
        "colab": {
          "base_uri": "https://localhost:8080/"
        },
        "id": "EseVmbC5WCxA",
        "outputId": "b5abf1d4-6749-4853-d74b-ebdebd88e5a4"
      },
      "source": [
        "print(gs_dt.best_score_)"
      ],
      "execution_count": null,
      "outputs": [
        {
          "output_type": "stream",
          "name": "stdout",
          "text": [
            "0.7651927437641725\n"
          ]
        }
      ]
    },
    {
      "cell_type": "code",
      "metadata": {
        "colab": {
          "base_uri": "https://localhost:8080/"
        },
        "id": "dZ7zEqz6WGeW",
        "outputId": "b565348a-6281-441d-8729-08ea2a4913d6"
      },
      "source": [
        "pipe_knn_pca = Pipeline([('pca', PCA()),\n",
        "                         ('clf', KNeighborsClassifier())])\n",
        "grid_params_knn_pca = \\\n",
        "    dict(pca__n_components=range(1, 11), clf__n_neighbors=range(1, 10))\n",
        "\n",
        "gs_knn_pca = GridSearchCV(estimator=pipe_knn_pca,\n",
        "                          param_grid=grid_params_knn_pca,\n",
        "                          scoring='accuracy')\n",
        "\n",
        "gs_knn_pca.fit(x_train, y_train)"
      ],
      "execution_count": null,
      "outputs": [
        {
          "output_type": "execute_result",
          "data": {
            "text/plain": [
              "GridSearchCV(cv=None, error_score=nan,\n",
              "             estimator=Pipeline(memory=None,\n",
              "                                steps=[('pca',\n",
              "                                        PCA(copy=True, iterated_power='auto',\n",
              "                                            n_components=None,\n",
              "                                            random_state=None,\n",
              "                                            svd_solver='auto', tol=0.0,\n",
              "                                            whiten=False)),\n",
              "                                       ('clf',\n",
              "                                        KNeighborsClassifier(algorithm='auto',\n",
              "                                                             leaf_size=30,\n",
              "                                                             metric='minkowski',\n",
              "                                                             metric_params=None,\n",
              "                                                             n_jobs=None,\n",
              "                                                             n_neighbors=5, p=2,\n",
              "                                                             weights='uniform'))],\n",
              "                                verbose=False),\n",
              "             iid='deprecated', n_jobs=None,\n",
              "             param_grid={'clf__n_neighbors': range(1, 10),\n",
              "                         'pca__n_components': range(1, 11)},\n",
              "             pre_dispatch='2*n_jobs', refit=True, return_train_score=False,\n",
              "             scoring='accuracy', verbose=0)"
            ]
          },
          "metadata": {},
          "execution_count": 173
        }
      ]
    },
    {
      "cell_type": "code",
      "metadata": {
        "colab": {
          "base_uri": "https://localhost:8080/"
        },
        "id": "NfxBD62HWP5o",
        "outputId": "377ef077-7904-434c-b0db-fe63f51bed08"
      },
      "source": [
        "print(gs_knn_pca.best_score_)"
      ],
      "execution_count": null,
      "outputs": [
        {
          "output_type": "stream",
          "name": "stdout",
          "text": [
            "0.7508878072301718\n"
          ]
        }
      ]
    },
    {
      "cell_type": "code",
      "metadata": {
        "colab": {
          "base_uri": "https://localhost:8080/"
        },
        "id": "OOW0uHv3WRef",
        "outputId": "0fb8f7b6-f896-4675-fc05-07b3af1287ca"
      },
      "source": [
        "pred_rfc = rfc_gs.predict(x_test)\n",
        "print(classification_report(y_test, pred_rfc))\n",
        "print(\"The RF model accuracy on Test data is %s\" % accuracy_score(y_test, pred_rfc))"
      ],
      "execution_count": null,
      "outputs": [
        {
          "output_type": "stream",
          "name": "stdout",
          "text": [
            "              precision    recall  f1-score   support\n",
            "\n",
            "           0       0.84      0.67      0.74       227\n",
            "           1       0.67      0.13      0.22        30\n",
            "           2       0.87      0.96      0.91       723\n",
            "\n",
            "    accuracy                           0.86       980\n",
            "   macro avg       0.79      0.59      0.63       980\n",
            "weighted avg       0.86      0.86      0.85       980\n",
            "\n",
            "The RF model accuracy on Test data is 0.8642857142857143\n"
          ]
        }
      ]
    },
    {
      "cell_type": "code",
      "metadata": {
        "id": "8N_Gr7cFWXRZ"
      },
      "source": [
        "y_test_re = list(y_test)\n",
        "for i in range(len(y_test_re)):\n",
        "    if y_test_re[i] == 0:\n",
        "        y_test_re[i] = \"high\"\n",
        "    if y_test_re[i] == 1:\n",
        "        y_test_re[i] = \"low\"\n",
        "    if y_test_re[i] == 2:\n",
        "        y_test_re[i] = \"medium\"\n",
        "pred_rfc_re = list(pred_rfc)\n",
        "for i in range(len(pred_rfc_re)):\n",
        "    if pred_rfc_re[i] == 0:\n",
        "        pred_rfc_re[i] = \"high\"\n",
        "    if pred_rfc_re[i] == 1:\n",
        "        pred_rfc_re[i] = \"low\"\n",
        "    if pred_rfc_re[i] == 2:\n",
        "        pred_rfc_re[i] = \"medium\"\n",
        "y_actu = pd.Series(y_test_re, name='Actual')\n",
        "y_pred = pd.Series(pred_rfc_re, name='Predicted')\n",
        "rfc_confusion = pd.crosstab(y_actu, y_pred)"
      ],
      "execution_count": null,
      "outputs": []
    },
    {
      "cell_type": "code",
      "metadata": {
        "colab": {
          "base_uri": "https://localhost:8080/",
          "height": 172
        },
        "id": "WwmWsojqWZ4B",
        "outputId": "ab68ae18-d8cc-4559-a3bd-16164e1c0aad"
      },
      "source": [
        "rfc_confusion"
      ],
      "execution_count": null,
      "outputs": [
        {
          "output_type": "execute_result",
          "data": {
            "text/html": [
              "<div>\n",
              "<style scoped>\n",
              "    .dataframe tbody tr th:only-of-type {\n",
              "        vertical-align: middle;\n",
              "    }\n",
              "\n",
              "    .dataframe tbody tr th {\n",
              "        vertical-align: top;\n",
              "    }\n",
              "\n",
              "    .dataframe thead th {\n",
              "        text-align: right;\n",
              "    }\n",
              "</style>\n",
              "<table border=\"1\" class=\"dataframe\">\n",
              "  <thead>\n",
              "    <tr style=\"text-align: right;\">\n",
              "      <th>Predicted</th>\n",
              "      <th>high</th>\n",
              "      <th>low</th>\n",
              "      <th>medium</th>\n",
              "    </tr>\n",
              "    <tr>\n",
              "      <th>Actual</th>\n",
              "      <th></th>\n",
              "      <th></th>\n",
              "      <th></th>\n",
              "    </tr>\n",
              "  </thead>\n",
              "  <tbody>\n",
              "    <tr>\n",
              "      <th>high</th>\n",
              "      <td>151</td>\n",
              "      <td>0</td>\n",
              "      <td>76</td>\n",
              "    </tr>\n",
              "    <tr>\n",
              "      <th>low</th>\n",
              "      <td>0</td>\n",
              "      <td>4</td>\n",
              "      <td>26</td>\n",
              "    </tr>\n",
              "    <tr>\n",
              "      <th>medium</th>\n",
              "      <td>29</td>\n",
              "      <td>2</td>\n",
              "      <td>692</td>\n",
              "    </tr>\n",
              "  </tbody>\n",
              "</table>\n",
              "</div>"
            ],
            "text/plain": [
              "Predicted  high  low  medium\n",
              "Actual                      \n",
              "high        151    0      76\n",
              "low           0    4      26\n",
              "medium       29    2     692"
            ]
          },
          "metadata": {},
          "execution_count": 203
        }
      ]
    },
    {
      "cell_type": "code",
      "metadata": {
        "colab": {
          "base_uri": "https://localhost:8080/"
        },
        "id": "Hb_oSXpVWb8t",
        "outputId": "083d07b7-a38b-4a74-fad4-3d5c45cf9932"
      },
      "source": [
        "smt = ClusterCentroids(ratio={2: 1500})\n",
        "x_sm, y_sm = smt.fit_sample(x_train, y_train)\n",
        "smt2 = SMOTE(ratio={0: 1500, 1: 1500})\n",
        "x_sm2, y_sm2 = smt2.fit_sample(x_sm, y_sm)"
      ],
      "execution_count": null,
      "outputs": [
        {
          "output_type": "stream",
          "name": "stderr",
          "text": [
            "/usr/local/lib/python3.7/dist-packages/sklearn/utils/deprecation.py:87: FutureWarning: Function safe_indexing is deprecated; safe_indexing is deprecated in version 0.22 and will be removed in version 0.24.\n",
            "  warnings.warn(msg, category=FutureWarning)\n",
            "/usr/local/lib/python3.7/dist-packages/sklearn/utils/deprecation.py:87: FutureWarning: Function safe_indexing is deprecated; safe_indexing is deprecated in version 0.22 and will be removed in version 0.24.\n",
            "  warnings.warn(msg, category=FutureWarning)\n",
            "/usr/local/lib/python3.7/dist-packages/sklearn/utils/deprecation.py:87: FutureWarning: Function safe_indexing is deprecated; safe_indexing is deprecated in version 0.22 and will be removed in version 0.24.\n",
            "  warnings.warn(msg, category=FutureWarning)\n"
          ]
        }
      ]
    },
    {
      "cell_type": "code",
      "metadata": {
        "id": "Sf7QHddyWhEK",
        "colab": {
          "base_uri": "https://localhost:8080/"
        },
        "outputId": "935fc775-6794-4475-b22d-23c446c91d70"
      },
      "source": [
        "rfc_rs = RandomForestClassifier(random_state=42)\n",
        "param_dist = {\"n_estimators\": [50, 100, 150, 200, 250],\n",
        "              'min_samples_leaf': [1, 2, 4]}\n",
        "rfc_gs_rs = GridSearchCV(rfc_rs, param_grid=param_dist,\n",
        "                         scoring='accuracy', cv=5)\n",
        "rfc_gs_rs.fit(x_sm2, y_sm2)"
      ],
      "execution_count": null,
      "outputs": [
        {
          "output_type": "execute_result",
          "data": {
            "text/plain": [
              "GridSearchCV(cv=5, error_score=nan,\n",
              "             estimator=RandomForestClassifier(bootstrap=True, ccp_alpha=0.0,\n",
              "                                              class_weight=None,\n",
              "                                              criterion='gini', max_depth=None,\n",
              "                                              max_features='auto',\n",
              "                                              max_leaf_nodes=None,\n",
              "                                              max_samples=None,\n",
              "                                              min_impurity_decrease=0.0,\n",
              "                                              min_impurity_split=None,\n",
              "                                              min_samples_leaf=1,\n",
              "                                              min_samples_split=2,\n",
              "                                              min_weight_fraction_leaf=0.0,\n",
              "                                              n_estimators=100, n_jobs=None,\n",
              "                                              oob_score=False, random_state=42,\n",
              "                                              verbose=0, warm_start=False),\n",
              "             iid='deprecated', n_jobs=None,\n",
              "             param_grid={'min_samples_leaf': [1, 2, 4],\n",
              "                         'n_estimators': [50, 100, 150, 200, 250]},\n",
              "             pre_dispatch='2*n_jobs', refit=True, return_train_score=False,\n",
              "             scoring='accuracy', verbose=0)"
            ]
          },
          "metadata": {},
          "execution_count": 179
        }
      ]
    },
    {
      "cell_type": "code",
      "metadata": {
        "id": "oCzryCQCWkhq",
        "colab": {
          "base_uri": "https://localhost:8080/"
        },
        "outputId": "53c5c56c-7b05-4a6d-d18d-527876f294ac"
      },
      "source": [
        "rfc_gs_rs.best_score_"
      ],
      "execution_count": null,
      "outputs": [
        {
          "output_type": "execute_result",
          "data": {
            "text/plain": [
              "0.8435555555555554"
            ]
          },
          "metadata": {},
          "execution_count": 180
        }
      ]
    },
    {
      "cell_type": "code",
      "metadata": {
        "id": "Uzy_vWq5Woyx"
      },
      "source": [
        "importances = rfc_gs_rs.best_estimator_.feature_importances_"
      ],
      "execution_count": null,
      "outputs": []
    },
    {
      "cell_type": "code",
      "metadata": {
        "id": "qVTJxbdEWqyN",
        "colab": {
          "base_uri": "https://localhost:8080/"
        },
        "outputId": "88568d5d-1fcd-4ea2-9408-e81d5c3c7aee"
      },
      "source": [
        "wine.columns[:-1]"
      ],
      "execution_count": null,
      "outputs": [
        {
          "output_type": "execute_result",
          "data": {
            "text/plain": [
              "Index(['fixed acidity', 'volatile acidity', 'citric acid', 'residual sugar',\n",
              "       'chlorides', 'free sulfur dioxide', 'total sulfur dioxide', 'density',\n",
              "       'pH', 'sulphates', 'alcohol'],\n",
              "      dtype='object')"
            ]
          },
          "metadata": {},
          "execution_count": 182
        }
      ]
    },
    {
      "cell_type": "code",
      "metadata": {
        "id": "ZhuEuCevWsTz"
      },
      "source": [
        "feature_importances = pd.DataFrame(importances,index = wine.columns[:-1],\n",
        "                                    columns=['importance']).sort_values('importance',\n",
        "                                                                        ascending=False)"
      ],
      "execution_count": null,
      "outputs": []
    },
    {
      "cell_type": "code",
      "metadata": {
        "id": "LXFB7KVtWvho",
        "colab": {
          "base_uri": "https://localhost:8080/",
          "height": 282
        },
        "outputId": "65eea3c1-fce8-4ef8-98d1-af3985d7a176"
      },
      "source": [
        "feature_importances.plot(kind='barh')"
      ],
      "execution_count": null,
      "outputs": [
        {
          "output_type": "execute_result",
          "data": {
            "text/plain": [
              "<matplotlib.axes._subplots.AxesSubplot at 0x7fa46d1f7a50>"
            ]
          },
          "metadata": {},
          "execution_count": 184
        },
        {
          "output_type": "display_data",
          "data": {
            "image/png": "[encoded data removed]",
            "text/plain": [
              "<Figure size 432x288 with 1 Axes>"
            ]
          },
          "metadata": {
            "needs_background": "light"
          }
        }
      ]
    },
    {
      "cell_type": "code",
      "metadata": {
        "id": "ZvOniHM2WxYD",
        "colab": {
          "base_uri": "https://localhost:8080/"
        },
        "outputId": "1100962e-b92a-46b9-d825-9e53ce4c9b27"
      },
      "source": [
        "pipe_svm = Pipeline([('clf', svm.SVC())])\n",
        "grid_params = dict(clf__C=[0.1, 0.3, 1, 3, 10],\n",
        "                   clf__gamma=[0.1, 0.3, 1, 3, 10],\n",
        "                   clf__kernel=['rbf', 'sigmoid'])\n",
        "gs_svm_sm = GridSearchCV(estimator=pipe_svm,\n",
        "                         param_grid=grid_params,\n",
        "                         scoring='accuracy',\n",
        "                         cv=skf)\n",
        "gs_svm_sm.fit(x_sm2, y_sm2)"
      ],
      "execution_count": null,
      "outputs": [
        {
          "output_type": "execute_result",
          "data": {
            "text/plain": [
              "GridSearchCV(cv=StratifiedKFold(n_splits=4, random_state=None, shuffle=False),\n",
              "             error_score=nan,\n",
              "             estimator=Pipeline(memory=None,\n",
              "                                steps=[('clf',\n",
              "                                        SVC(C=1.0, break_ties=False,\n",
              "                                            cache_size=200, class_weight=None,\n",
              "                                            coef0=0.0,\n",
              "                                            decision_function_shape='ovr',\n",
              "                                            degree=3, gamma='scale',\n",
              "                                            kernel='rbf', max_iter=-1,\n",
              "                                            probability=False,\n",
              "                                            random_state=None, shrinking=True,\n",
              "                                            tol=0.001, verbose=False))],\n",
              "                                verbose=False),\n",
              "             iid='deprecated', n_jobs=None,\n",
              "             param_grid={'clf__C': [0.1, 0.3, 1, 3, 10],\n",
              "                         'clf__gamma': [0.1, 0.3, 1, 3, 10],\n",
              "                         'clf__kernel': ['rbf', 'sigmoid']},\n",
              "             pre_dispatch='2*n_jobs', refit=True, return_train_score=False,\n",
              "             scoring='accuracy', verbose=0)"
            ]
          },
          "metadata": {},
          "execution_count": 185
        }
      ]
    },
    {
      "cell_type": "code",
      "metadata": {
        "id": "ZmDj8ssUW0a5",
        "colab": {
          "base_uri": "https://localhost:8080/"
        },
        "outputId": "5e79ce45-ccbb-4e63-b60a-208d9ca84578"
      },
      "source": [
        "gs_svm_sm.best_score_"
      ],
      "execution_count": null,
      "outputs": [
        {
          "output_type": "execute_result",
          "data": {
            "text/plain": [
              "0.8308888888888889"
            ]
          },
          "metadata": {},
          "execution_count": 186
        }
      ]
    },
    {
      "cell_type": "code",
      "metadata": {
        "id": "_akhwWPrW2TG",
        "colab": {
          "base_uri": "https://localhost:8080/"
        },
        "outputId": "497acbca-6165-4a6f-8e26-6cf9f30ef153"
      },
      "source": [
        "clf = Pipeline([\n",
        "    ('scl', StandardScaler()),\n",
        "    ('pca', PCA(random_state=42)),\n",
        "    ('clf', DecisionTreeClassifier(random_state=42))])\n",
        "\n",
        "criterion = ['gini', 'entropy']\n",
        "splitter = ['best']\n",
        "max_depth = [8, 9, 10, 11, 15, 20, 25]\n",
        "min_samples_leaf = [2, 3, 5]\n",
        "class_weight = ['balanced', None]\n",
        "\n",
        "param_grid =\\\n",
        "    [{'clf__class_weight': class_weight,\n",
        "      'clf__criterion': criterion,\n",
        "      'clf__splitter': splitter,\n",
        "      'clf__max_depth': max_depth,\n",
        "      'clf__min_samples_leaf': min_samples_leaf\n",
        "      }]\n",
        "\n",
        "gs_dt_rs = GridSearchCV(estimator=clf,\n",
        "                        param_grid=param_grid,\n",
        "                        scoring='accuracy',\n",
        "                        cv=5,\n",
        "                        verbose=1,\n",
        "                        n_jobs=-1)\n",
        "gs_dt_rs.fit(x_sm2, y_sm2)"
      ],
      "execution_count": null,
      "outputs": [
        {
          "output_type": "stream",
          "name": "stdout",
          "text": [
            "Fitting 5 folds for each of 84 candidates, totalling 420 fits\n"
          ]
        },
        {
          "output_type": "stream",
          "name": "stderr",
          "text": [
            "[Parallel(n_jobs=-1)]: Using backend LokyBackend with 2 concurrent workers.\n",
            "[Parallel(n_jobs=-1)]: Done 164 tasks      | elapsed:    8.1s\n",
            "[Parallel(n_jobs=-1)]: Done 420 out of 420 | elapsed:   22.8s finished\n"
          ]
        },
        {
          "output_type": "execute_result",
          "data": {
            "text/plain": [
              "GridSearchCV(cv=5, error_score=nan,\n",
              "             estimator=Pipeline(memory=None,\n",
              "                                steps=[('scl',\n",
              "                                        StandardScaler(copy=True,\n",
              "                                                       with_mean=True,\n",
              "                                                       with_std=True)),\n",
              "                                       ('pca',\n",
              "                                        PCA(copy=True, iterated_power='auto',\n",
              "                                            n_components=None, random_state=42,\n",
              "                                            svd_solver='auto', tol=0.0,\n",
              "                                            whiten=False)),\n",
              "                                       ('clf',\n",
              "                                        DecisionTreeClassifier(ccp_alpha=0.0,\n",
              "                                                               class_weight=None,\n",
              "                                                               criterion='gini',\n",
              "                                                               max_depth=None,\n",
              "                                                               max...\n",
              "                                                               random_state=42,\n",
              "                                                               splitter='best'))],\n",
              "                                verbose=False),\n",
              "             iid='deprecated', n_jobs=-1,\n",
              "             param_grid=[{'clf__class_weight': ['balanced', None],\n",
              "                          'clf__criterion': ['gini', 'entropy'],\n",
              "                          'clf__max_depth': [8, 9, 10, 11, 15, 20, 25],\n",
              "                          'clf__min_samples_leaf': [2, 3, 5],\n",
              "                          'clf__splitter': ['best']}],\n",
              "             pre_dispatch='2*n_jobs', refit=True, return_train_score=False,\n",
              "             scoring='accuracy', verbose=1)"
            ]
          },
          "metadata": {},
          "execution_count": 187
        }
      ]
    },
    {
      "cell_type": "code",
      "metadata": {
        "id": "4h39z6HzW41H",
        "colab": {
          "base_uri": "https://localhost:8080/"
        },
        "outputId": "2baf6bf8-0fa6-4ed7-ddf6-95d8d14241aa"
      },
      "source": [
        "gs_dt_rs.best_score_"
      ],
      "execution_count": null,
      "outputs": [
        {
          "output_type": "execute_result",
          "data": {
            "text/plain": [
              "0.7415555555555555"
            ]
          },
          "metadata": {},
          "execution_count": 188
        }
      ]
    },
    {
      "cell_type": "code",
      "metadata": {
        "id": "MfcjRXEBW_Ud",
        "colab": {
          "base_uri": "https://localhost:8080/"
        },
        "outputId": "dc1197d4-003c-485d-a756-357aaf64a31e"
      },
      "source": [
        "pipe_knn_pca = Pipeline([('pca', PCA()),\n",
        "                         ('clf', KNeighborsClassifier())])\n",
        "grid_params_knn_pca = dict(pca__n_components=range(1, 11),\n",
        "                           clf__n_neighbors=range(1, 10))\n",
        "\n",
        "gs_knn_pca_rs = GridSearchCV(estimator=pipe_knn_pca,\n",
        "                             param_grid=grid_params_knn_pca,\n",
        "                             scoring='accuracy')\n",
        "\n",
        "gs_knn_pca_rs.fit(x_sm2, y_sm2)"
      ],
      "execution_count": null,
      "outputs": [
        {
          "output_type": "execute_result",
          "data": {
            "text/plain": [
              "GridSearchCV(cv=None, error_score=nan,\n",
              "             estimator=Pipeline(memory=None,\n",
              "                                steps=[('pca',\n",
              "                                        PCA(copy=True, iterated_power='auto',\n",
              "                                            n_components=None,\n",
              "                                            random_state=None,\n",
              "                                            svd_solver='auto', tol=0.0,\n",
              "                                            whiten=False)),\n",
              "                                       ('clf',\n",
              "                                        KNeighborsClassifier(algorithm='auto',\n",
              "                                                             leaf_size=30,\n",
              "                                                             metric='minkowski',\n",
              "                                                             metric_params=None,\n",
              "                                                             n_jobs=None,\n",
              "                                                             n_neighbors=5, p=2,\n",
              "                                                             weights='uniform'))],\n",
              "                                verbose=False),\n",
              "             iid='deprecated', n_jobs=None,\n",
              "             param_grid={'clf__n_neighbors': range(1, 10),\n",
              "                         'pca__n_components': range(1, 11)},\n",
              "             pre_dispatch='2*n_jobs', refit=True, return_train_score=False,\n",
              "             scoring='accuracy', verbose=0)"
            ]
          },
          "metadata": {},
          "execution_count": 189
        }
      ]
    },
    {
      "cell_type": "code",
      "metadata": {
        "id": "UPQqdKaKXFsJ",
        "colab": {
          "base_uri": "https://localhost:8080/"
        },
        "outputId": "9a4a9e39-1c1a-4886-a70e-7c8032eb1901"
      },
      "source": [
        "gs_knn_pca_rs.best_score_"
      ],
      "execution_count": null,
      "outputs": [
        {
          "output_type": "execute_result",
          "data": {
            "text/plain": [
              "0.7713333333333333"
            ]
          },
          "metadata": {},
          "execution_count": 190
        }
      ]
    },
    {
      "cell_type": "code",
      "metadata": {
        "id": "T9_vdwyKXHuq",
        "colab": {
          "base_uri": "https://localhost:8080/"
        },
        "outputId": "d2e9757b-d400-42b3-bbe8-f621841285da"
      },
      "source": [
        "svm_rs_predicted = gs_svm_sm.predict(x_test)\n",
        "print(classification_report(y_test, svm_rs_predicted))\n",
        "print(\"---------------------------------------------------------\")\n",
        "print(\"The accuracy score of SVM (resampled) on test is %s\" %\n",
        "      accuracy_score(y_test, svm_rs_predicted))"
      ],
      "execution_count": null,
      "outputs": [
        {
          "output_type": "stream",
          "name": "stdout",
          "text": [
            "              precision    recall  f1-score   support\n",
            "\n",
            "           0       0.70      0.54      0.61       227\n",
            "           1       0.20      0.13      0.16        30\n",
            "           2       0.84      0.91      0.87       723\n",
            "\n",
            "    accuracy                           0.80       980\n",
            "   macro avg       0.58      0.53      0.55       980\n",
            "weighted avg       0.79      0.80      0.79       980\n",
            "\n",
            "---------------------------------------------------------\n",
            "The accuracy score of SVM (resampled) on test is 0.7989795918367347\n"
          ]
        }
      ]
    },
    {
      "cell_type": "code",
      "metadata": {
        "id": "aMnlpDeVXK3d"
      },
      "source": [
        "y_test_re = list(y_test)\n",
        "for i in range(len(y_test_re)):\n",
        "    if y_test_re[i] == 0:\n",
        "        y_test_re[i] = \"high\"\n",
        "    if y_test_re[i] == 1:\n",
        "        y_test_re[i] = \"low\"\n",
        "    if y_test_re[i] == 2:\n",
        "        y_test_re[i] = \"medium\"\n",
        "sm_pred_re = list(svm_rs_predicted)\n",
        "for i in range(len(svm_rs_predicted)):\n",
        "    if sm_pred_re[i] == 0:\n",
        "        sm_pred_re[i] = \"high\"\n",
        "    if sm_pred_re[i] == 1:\n",
        "        sm_pred_re[i] = \"low\"\n",
        "    if sm_pred_re[i] == 2:\n",
        "        sm_pred_re[i] = \"medium\"\n",
        "svm_rs_confusion = pd.crosstab(\n",
        "    pd.Series(y_test_re, name='actual'), pd.Series(sm_pred_re, name='predicted'))"
      ],
      "execution_count": null,
      "outputs": []
    },
    {
      "cell_type": "code",
      "metadata": {
        "id": "1gJh8N4bXO1T",
        "colab": {
          "base_uri": "https://localhost:8080/",
          "height": 172
        },
        "outputId": "518c1a9a-4ce6-447b-a804-3c8dfa2ffd6b"
      },
      "source": [
        "svm_rs_confusion"
      ],
      "execution_count": null,
      "outputs": [
        {
          "output_type": "execute_result",
          "data": {
            "text/html": [
              "<div>\n",
              "<style scoped>\n",
              "    .dataframe tbody tr th:only-of-type {\n",
              "        vertical-align: middle;\n",
              "    }\n",
              "\n",
              "    .dataframe tbody tr th {\n",
              "        vertical-align: top;\n",
              "    }\n",
              "\n",
              "    .dataframe thead th {\n",
              "        text-align: right;\n",
              "    }\n",
              "</style>\n",
              "<table border=\"1\" class=\"dataframe\">\n",
              "  <thead>\n",
              "    <tr style=\"text-align: right;\">\n",
              "      <th>predicted</th>\n",
              "      <th>high</th>\n",
              "      <th>low</th>\n",
              "      <th>medium</th>\n",
              "    </tr>\n",
              "    <tr>\n",
              "      <th>actual</th>\n",
              "      <th></th>\n",
              "      <th></th>\n",
              "      <th></th>\n",
              "    </tr>\n",
              "  </thead>\n",
              "  <tbody>\n",
              "    <tr>\n",
              "      <th>high</th>\n",
              "      <td>123</td>\n",
              "      <td>2</td>\n",
              "      <td>102</td>\n",
              "    </tr>\n",
              "    <tr>\n",
              "      <th>low</th>\n",
              "      <td>0</td>\n",
              "      <td>4</td>\n",
              "      <td>26</td>\n",
              "    </tr>\n",
              "    <tr>\n",
              "      <th>medium</th>\n",
              "      <td>53</td>\n",
              "      <td>14</td>\n",
              "      <td>656</td>\n",
              "    </tr>\n",
              "  </tbody>\n",
              "</table>\n",
              "</div>"
            ],
            "text/plain": [
              "predicted  high  low  medium\n",
              "actual                      \n",
              "high        123    2     102\n",
              "low           0    4      26\n",
              "medium       53   14     656"
            ]
          },
          "metadata": {},
          "execution_count": 205
        }
      ]
    },
    {
      "cell_type": "code",
      "metadata": {
        "id": "RBlynMoGXQl_"
      },
      "source": [
        "pred_rfc_rs = rfc_gs_rs.predict(x_test)"
      ],
      "execution_count": null,
      "outputs": []
    },
    {
      "cell_type": "code",
      "metadata": {
        "id": "g3XK0PgYXS8-",
        "colab": {
          "base_uri": "https://localhost:8080/"
        },
        "outputId": "f32888a5-56bb-435a-f9ab-4002cba1d33a"
      },
      "source": [
        "print(classification_report(y_test, pred_rfc_rs))\n",
        "print(\"The RF model(resampled) accuracy on test is %s\" %\n",
        "      accuracy_score(y_test, pred_rfc_rs))"
      ],
      "execution_count": null,
      "outputs": [
        {
          "output_type": "stream",
          "name": "stdout",
          "text": [
            "              precision    recall  f1-score   support\n",
            "\n",
            "           0       0.56      0.84      0.67       227\n",
            "           1       0.26      0.53      0.35        30\n",
            "           2       0.91      0.73      0.81       723\n",
            "\n",
            "    accuracy                           0.75       980\n",
            "   macro avg       0.58      0.70      0.61       980\n",
            "weighted avg       0.81      0.75      0.76       980\n",
            "\n",
            "The RF model(resampled) accuracy on test is 0.7479591836734694\n"
          ]
        }
      ]
    },
    {
      "cell_type": "code",
      "metadata": {
        "id": "swsS9D2-XVfl"
      },
      "source": [
        "y_test_re = list(y_test)\n",
        "for i in range(len(y_test_re)):\n",
        "    if y_test_re[i] == 0:\n",
        "        y_test_re[i] = \"high\"\n",
        "    if y_test_re[i] == 1:\n",
        "        y_test_re[i] = \"low\"\n",
        "    if y_test_re[i] == 2:\n",
        "        y_test_re[i] = \"medium\"\n",
        "pred_rfc_re = list(pred_rfc_rs)\n",
        "for i in range(len(pred_rfc_re)):\n",
        "    if pred_rfc_re[i] == 0:\n",
        "        pred_rfc_re[i] = \"high\"\n",
        "    if pred_rfc_re[i] == 1:\n",
        "        pred_rfc_re[i] = \"low\"\n",
        "    if pred_rfc_re[i] == 2:\n",
        "        pred_rfc_re[i] = \"medium\"\n",
        "y_actu = pd.Series(y_test_re, name='Actual')\n",
        "y_pred = pd.Series(pred_rfc_re, name='Predicted')\n",
        "rfc_rs_confusion = pd.crosstab(y_actu, y_pred)"
      ],
      "execution_count": null,
      "outputs": []
    },
    {
      "cell_type": "code",
      "metadata": {
        "id": "xXQ_kz_sXY_V",
        "colab": {
          "base_uri": "https://localhost:8080/",
          "height": 172
        },
        "outputId": "9e2ae784-23c6-45b5-b2d2-c60237dff49d"
      },
      "source": [
        "rfc_rs_confusion"
      ],
      "execution_count": null,
      "outputs": [
        {
          "output_type": "execute_result",
          "data": {
            "text/html": [
              "<div>\n",
              "<style scoped>\n",
              "    .dataframe tbody tr th:only-of-type {\n",
              "        vertical-align: middle;\n",
              "    }\n",
              "\n",
              "    .dataframe tbody tr th {\n",
              "        vertical-align: top;\n",
              "    }\n",
              "\n",
              "    .dataframe thead th {\n",
              "        text-align: right;\n",
              "    }\n",
              "</style>\n",
              "<table border=\"1\" class=\"dataframe\">\n",
              "  <thead>\n",
              "    <tr style=\"text-align: right;\">\n",
              "      <th>Predicted</th>\n",
              "      <th>high</th>\n",
              "      <th>low</th>\n",
              "      <th>medium</th>\n",
              "    </tr>\n",
              "    <tr>\n",
              "      <th>Actual</th>\n",
              "      <th></th>\n",
              "      <th></th>\n",
              "      <th></th>\n",
              "    </tr>\n",
              "  </thead>\n",
              "  <tbody>\n",
              "    <tr>\n",
              "      <th>high</th>\n",
              "      <td>191</td>\n",
              "      <td>1</td>\n",
              "      <td>35</td>\n",
              "    </tr>\n",
              "    <tr>\n",
              "      <th>low</th>\n",
              "      <td>0</td>\n",
              "      <td>16</td>\n",
              "      <td>14</td>\n",
              "    </tr>\n",
              "    <tr>\n",
              "      <th>medium</th>\n",
              "      <td>152</td>\n",
              "      <td>45</td>\n",
              "      <td>526</td>\n",
              "    </tr>\n",
              "  </tbody>\n",
              "</table>\n",
              "</div>"
            ],
            "text/plain": [
              "Predicted  high  low  medium\n",
              "Actual                      \n",
              "high        191    1      35\n",
              "low           0   16      14\n",
              "medium      152   45     526"
            ]
          },
          "metadata": {},
          "execution_count": 207
        }
      ]
    },
    {
      "cell_type": "code",
      "metadata": {
        "id": "wwQeXK0K-46c"
      },
      "source": [
        ""
      ],
      "execution_count": null,
      "outputs": []
    }
  ]
}